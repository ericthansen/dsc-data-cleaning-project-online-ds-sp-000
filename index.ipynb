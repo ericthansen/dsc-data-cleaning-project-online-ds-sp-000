{
 "cells": [
  {
   "cell_type": "markdown",
   "metadata": {},
   "source": [
    "# Project - Data Cleaning\n",
    "\n",
    "## Introduction\n",
    "In this lab, we'll make use of everything we've learned about pandas, data cleaning, and exploratory data analysis. In order to complete this lab, you'll have to import, clean, combine, reshape, and visualize data to answer questions provided, as well as your own questions!\n",
    "\n",
    "## Objectives\n",
    "You will be able to:\n",
    "- Use different types of joins to merge DataFrames \n",
    "- Identify missing values in a dataframe using built-in methods \n",
    "- Evaluate and execute the best strategy for dealing with missing, duplicate, and erroneous values for a given dataset \n",
    "- Inspect data for duplicates or extraneous values and remove them \n",
    "\n",
    "\n",
    "## The dataset\n",
    "In this lab, we'll work with the comprehensive [Super Heroes Dataset](https://www.kaggle.com/claudiodavi/superhero-set/data), which can be found on Kaggle!\n",
    "\n",
    "\n",
    "## Getting Started\n",
    "\n",
    "In the cell below:\n",
    "\n",
    "* Import and alias pandas as `pd`\n",
    "* Import and alias numpy as `np`\n",
    "* Import and alias seaborn as `sns`\n",
    "* Import and alias matplotlib.pyplot as `plt`\n",
    "* Set matplotlib visualizations to display inline in the notebook"
   ]
  },
  {
   "cell_type": "code",
   "execution_count": 1,
   "metadata": {},
   "outputs": [],
   "source": [
    "import pandas as pd\n",
    "import numpy as np\n",
    "import seaborn as sns\n",
    "import matplotlib.pyplot as plt\n",
    "%matplotlib inline"
   ]
  },
  {
   "cell_type": "markdown",
   "metadata": {},
   "source": [
    "For this lab, our dataset is split among two different sources -- `'heroes_information.csv'` and `'super_hero_powers.csv'`.\n",
    "\n",
    "Use pandas to read in each file and store them in DataFrames in the appropriate variables below. Then, display the `.head()` of each to ensure that everything loaded correctly.  "
   ]
  },
  {
   "cell_type": "code",
   "execution_count": 2,
   "metadata": {},
   "outputs": [
    {
     "data": {
      "text/html": [
       "<div>\n",
       "<style scoped>\n",
       "    .dataframe tbody tr th:only-of-type {\n",
       "        vertical-align: middle;\n",
       "    }\n",
       "\n",
       "    .dataframe tbody tr th {\n",
       "        vertical-align: top;\n",
       "    }\n",
       "\n",
       "    .dataframe thead th {\n",
       "        text-align: right;\n",
       "    }\n",
       "</style>\n",
       "<table border=\"1\" class=\"dataframe\">\n",
       "  <thead>\n",
       "    <tr style=\"text-align: right;\">\n",
       "      <th></th>\n",
       "      <th>Unnamed: 0</th>\n",
       "      <th>name</th>\n",
       "      <th>Gender</th>\n",
       "      <th>Eye color</th>\n",
       "      <th>Race</th>\n",
       "      <th>Hair color</th>\n",
       "      <th>Height</th>\n",
       "      <th>Publisher</th>\n",
       "      <th>Skin color</th>\n",
       "      <th>Alignment</th>\n",
       "      <th>Weight</th>\n",
       "    </tr>\n",
       "  </thead>\n",
       "  <tbody>\n",
       "    <tr>\n",
       "      <th>0</th>\n",
       "      <td>0</td>\n",
       "      <td>A-Bomb</td>\n",
       "      <td>Male</td>\n",
       "      <td>yellow</td>\n",
       "      <td>Human</td>\n",
       "      <td>No Hair</td>\n",
       "      <td>203.0</td>\n",
       "      <td>Marvel Comics</td>\n",
       "      <td>-</td>\n",
       "      <td>good</td>\n",
       "      <td>441.0</td>\n",
       "    </tr>\n",
       "    <tr>\n",
       "      <th>1</th>\n",
       "      <td>1</td>\n",
       "      <td>Abe Sapien</td>\n",
       "      <td>Male</td>\n",
       "      <td>blue</td>\n",
       "      <td>Icthyo Sapien</td>\n",
       "      <td>No Hair</td>\n",
       "      <td>191.0</td>\n",
       "      <td>Dark Horse Comics</td>\n",
       "      <td>blue</td>\n",
       "      <td>good</td>\n",
       "      <td>65.0</td>\n",
       "    </tr>\n",
       "    <tr>\n",
       "      <th>2</th>\n",
       "      <td>2</td>\n",
       "      <td>Abin Sur</td>\n",
       "      <td>Male</td>\n",
       "      <td>blue</td>\n",
       "      <td>Ungaran</td>\n",
       "      <td>No Hair</td>\n",
       "      <td>185.0</td>\n",
       "      <td>DC Comics</td>\n",
       "      <td>red</td>\n",
       "      <td>good</td>\n",
       "      <td>90.0</td>\n",
       "    </tr>\n",
       "    <tr>\n",
       "      <th>3</th>\n",
       "      <td>3</td>\n",
       "      <td>Abomination</td>\n",
       "      <td>Male</td>\n",
       "      <td>green</td>\n",
       "      <td>Human / Radiation</td>\n",
       "      <td>No Hair</td>\n",
       "      <td>203.0</td>\n",
       "      <td>Marvel Comics</td>\n",
       "      <td>-</td>\n",
       "      <td>bad</td>\n",
       "      <td>441.0</td>\n",
       "    </tr>\n",
       "    <tr>\n",
       "      <th>4</th>\n",
       "      <td>4</td>\n",
       "      <td>Abraxas</td>\n",
       "      <td>Male</td>\n",
       "      <td>blue</td>\n",
       "      <td>Cosmic Entity</td>\n",
       "      <td>Black</td>\n",
       "      <td>-99.0</td>\n",
       "      <td>Marvel Comics</td>\n",
       "      <td>-</td>\n",
       "      <td>bad</td>\n",
       "      <td>-99.0</td>\n",
       "    </tr>\n",
       "  </tbody>\n",
       "</table>\n",
       "</div>"
      ],
      "text/plain": [
       "   Unnamed: 0         name Gender Eye color               Race Hair color  \\\n",
       "0           0       A-Bomb   Male    yellow              Human    No Hair   \n",
       "1           1   Abe Sapien   Male      blue      Icthyo Sapien    No Hair   \n",
       "2           2     Abin Sur   Male      blue            Ungaran    No Hair   \n",
       "3           3  Abomination   Male     green  Human / Radiation    No Hair   \n",
       "4           4      Abraxas   Male      blue      Cosmic Entity      Black   \n",
       "\n",
       "   Height          Publisher Skin color Alignment  Weight  \n",
       "0   203.0      Marvel Comics          -      good   441.0  \n",
       "1   191.0  Dark Horse Comics       blue      good    65.0  \n",
       "2   185.0          DC Comics        red      good    90.0  \n",
       "3   203.0      Marvel Comics          -       bad   441.0  \n",
       "4   -99.0      Marvel Comics          -       bad   -99.0  "
      ]
     },
     "metadata": {},
     "output_type": "display_data"
    },
    {
     "data": {
      "text/html": [
       "<div>\n",
       "<style scoped>\n",
       "    .dataframe tbody tr th:only-of-type {\n",
       "        vertical-align: middle;\n",
       "    }\n",
       "\n",
       "    .dataframe tbody tr th {\n",
       "        vertical-align: top;\n",
       "    }\n",
       "\n",
       "    .dataframe thead th {\n",
       "        text-align: right;\n",
       "    }\n",
       "</style>\n",
       "<table border=\"1\" class=\"dataframe\">\n",
       "  <thead>\n",
       "    <tr style=\"text-align: right;\">\n",
       "      <th></th>\n",
       "      <th>hero_names</th>\n",
       "      <th>Agility</th>\n",
       "      <th>Accelerated Healing</th>\n",
       "      <th>Lantern Power Ring</th>\n",
       "      <th>Dimensional Awareness</th>\n",
       "      <th>Cold Resistance</th>\n",
       "      <th>Durability</th>\n",
       "      <th>Stealth</th>\n",
       "      <th>Energy Absorption</th>\n",
       "      <th>Flight</th>\n",
       "      <th>...</th>\n",
       "      <th>Web Creation</th>\n",
       "      <th>Reality Warping</th>\n",
       "      <th>Odin Force</th>\n",
       "      <th>Symbiote Costume</th>\n",
       "      <th>Speed Force</th>\n",
       "      <th>Phoenix Force</th>\n",
       "      <th>Molecular Dissipation</th>\n",
       "      <th>Vision - Cryo</th>\n",
       "      <th>Omnipresent</th>\n",
       "      <th>Omniscient</th>\n",
       "    </tr>\n",
       "  </thead>\n",
       "  <tbody>\n",
       "    <tr>\n",
       "      <th>0</th>\n",
       "      <td>3-D Man</td>\n",
       "      <td>True</td>\n",
       "      <td>False</td>\n",
       "      <td>False</td>\n",
       "      <td>False</td>\n",
       "      <td>False</td>\n",
       "      <td>False</td>\n",
       "      <td>False</td>\n",
       "      <td>False</td>\n",
       "      <td>False</td>\n",
       "      <td>...</td>\n",
       "      <td>False</td>\n",
       "      <td>False</td>\n",
       "      <td>False</td>\n",
       "      <td>False</td>\n",
       "      <td>False</td>\n",
       "      <td>False</td>\n",
       "      <td>False</td>\n",
       "      <td>False</td>\n",
       "      <td>False</td>\n",
       "      <td>False</td>\n",
       "    </tr>\n",
       "    <tr>\n",
       "      <th>1</th>\n",
       "      <td>A-Bomb</td>\n",
       "      <td>False</td>\n",
       "      <td>True</td>\n",
       "      <td>False</td>\n",
       "      <td>False</td>\n",
       "      <td>False</td>\n",
       "      <td>True</td>\n",
       "      <td>False</td>\n",
       "      <td>False</td>\n",
       "      <td>False</td>\n",
       "      <td>...</td>\n",
       "      <td>False</td>\n",
       "      <td>False</td>\n",
       "      <td>False</td>\n",
       "      <td>False</td>\n",
       "      <td>False</td>\n",
       "      <td>False</td>\n",
       "      <td>False</td>\n",
       "      <td>False</td>\n",
       "      <td>False</td>\n",
       "      <td>False</td>\n",
       "    </tr>\n",
       "    <tr>\n",
       "      <th>2</th>\n",
       "      <td>Abe Sapien</td>\n",
       "      <td>True</td>\n",
       "      <td>True</td>\n",
       "      <td>False</td>\n",
       "      <td>False</td>\n",
       "      <td>True</td>\n",
       "      <td>True</td>\n",
       "      <td>False</td>\n",
       "      <td>False</td>\n",
       "      <td>False</td>\n",
       "      <td>...</td>\n",
       "      <td>False</td>\n",
       "      <td>False</td>\n",
       "      <td>False</td>\n",
       "      <td>False</td>\n",
       "      <td>False</td>\n",
       "      <td>False</td>\n",
       "      <td>False</td>\n",
       "      <td>False</td>\n",
       "      <td>False</td>\n",
       "      <td>False</td>\n",
       "    </tr>\n",
       "    <tr>\n",
       "      <th>3</th>\n",
       "      <td>Abin Sur</td>\n",
       "      <td>False</td>\n",
       "      <td>False</td>\n",
       "      <td>True</td>\n",
       "      <td>False</td>\n",
       "      <td>False</td>\n",
       "      <td>False</td>\n",
       "      <td>False</td>\n",
       "      <td>False</td>\n",
       "      <td>False</td>\n",
       "      <td>...</td>\n",
       "      <td>False</td>\n",
       "      <td>False</td>\n",
       "      <td>False</td>\n",
       "      <td>False</td>\n",
       "      <td>False</td>\n",
       "      <td>False</td>\n",
       "      <td>False</td>\n",
       "      <td>False</td>\n",
       "      <td>False</td>\n",
       "      <td>False</td>\n",
       "    </tr>\n",
       "    <tr>\n",
       "      <th>4</th>\n",
       "      <td>Abomination</td>\n",
       "      <td>False</td>\n",
       "      <td>True</td>\n",
       "      <td>False</td>\n",
       "      <td>False</td>\n",
       "      <td>False</td>\n",
       "      <td>False</td>\n",
       "      <td>False</td>\n",
       "      <td>False</td>\n",
       "      <td>False</td>\n",
       "      <td>...</td>\n",
       "      <td>False</td>\n",
       "      <td>False</td>\n",
       "      <td>False</td>\n",
       "      <td>False</td>\n",
       "      <td>False</td>\n",
       "      <td>False</td>\n",
       "      <td>False</td>\n",
       "      <td>False</td>\n",
       "      <td>False</td>\n",
       "      <td>False</td>\n",
       "    </tr>\n",
       "  </tbody>\n",
       "</table>\n",
       "<p>5 rows × 168 columns</p>\n",
       "</div>"
      ],
      "text/plain": [
       "    hero_names  Agility  Accelerated Healing  Lantern Power Ring  \\\n",
       "0      3-D Man     True                False               False   \n",
       "1       A-Bomb    False                 True               False   \n",
       "2   Abe Sapien     True                 True               False   \n",
       "3     Abin Sur    False                False                True   \n",
       "4  Abomination    False                 True               False   \n",
       "\n",
       "   Dimensional Awareness  Cold Resistance  Durability  Stealth  \\\n",
       "0                  False            False       False    False   \n",
       "1                  False            False        True    False   \n",
       "2                  False             True        True    False   \n",
       "3                  False            False       False    False   \n",
       "4                  False            False       False    False   \n",
       "\n",
       "   Energy Absorption  Flight  ...  Web Creation  Reality Warping  Odin Force  \\\n",
       "0              False   False  ...         False            False       False   \n",
       "1              False   False  ...         False            False       False   \n",
       "2              False   False  ...         False            False       False   \n",
       "3              False   False  ...         False            False       False   \n",
       "4              False   False  ...         False            False       False   \n",
       "\n",
       "   Symbiote Costume  Speed Force  Phoenix Force  Molecular Dissipation  \\\n",
       "0             False        False          False                  False   \n",
       "1             False        False          False                  False   \n",
       "2             False        False          False                  False   \n",
       "3             False        False          False                  False   \n",
       "4             False        False          False                  False   \n",
       "\n",
       "   Vision - Cryo  Omnipresent  Omniscient  \n",
       "0          False        False       False  \n",
       "1          False        False       False  \n",
       "2          False        False       False  \n",
       "3          False        False       False  \n",
       "4          False        False       False  \n",
       "\n",
       "[5 rows x 168 columns]"
      ]
     },
     "metadata": {},
     "output_type": "display_data"
    }
   ],
   "source": [
    "heroes_df = pd.read_csv('heroes_information.csv')\n",
    "powers_df = pd.read_csv('super_hero_powers.csv')\n",
    "\n",
    "display(heroes_df.head(), powers_df.head())\n"
   ]
  },
  {
   "cell_type": "markdown",
   "metadata": {},
   "source": [
    "It looks as if the heroes information dataset contained an index column.  We did not specify that this dataset contained an index column, because we hadn't seen it yet. Pandas does not know how to tell apart an index column from any other data, so it stored it with the column name `Unnamed: 0`.  \n",
    "\n",
    "Our DataFrame provided row indices by default, so this column is not needed.  Drop it from the DataFrame in place in the cell below, and then display the head of `heroes_df` to ensure that it worked properly. "
   ]
  },
  {
   "cell_type": "code",
   "execution_count": 3,
   "metadata": {},
   "outputs": [
    {
     "data": {
      "text/html": [
       "<div>\n",
       "<style scoped>\n",
       "    .dataframe tbody tr th:only-of-type {\n",
       "        vertical-align: middle;\n",
       "    }\n",
       "\n",
       "    .dataframe tbody tr th {\n",
       "        vertical-align: top;\n",
       "    }\n",
       "\n",
       "    .dataframe thead th {\n",
       "        text-align: right;\n",
       "    }\n",
       "</style>\n",
       "<table border=\"1\" class=\"dataframe\">\n",
       "  <thead>\n",
       "    <tr style=\"text-align: right;\">\n",
       "      <th></th>\n",
       "      <th>name</th>\n",
       "      <th>Gender</th>\n",
       "      <th>Eye color</th>\n",
       "      <th>Race</th>\n",
       "      <th>Hair color</th>\n",
       "      <th>Height</th>\n",
       "      <th>Publisher</th>\n",
       "      <th>Skin color</th>\n",
       "      <th>Alignment</th>\n",
       "      <th>Weight</th>\n",
       "    </tr>\n",
       "  </thead>\n",
       "  <tbody>\n",
       "    <tr>\n",
       "      <th>0</th>\n",
       "      <td>A-Bomb</td>\n",
       "      <td>Male</td>\n",
       "      <td>yellow</td>\n",
       "      <td>Human</td>\n",
       "      <td>No Hair</td>\n",
       "      <td>203.0</td>\n",
       "      <td>Marvel Comics</td>\n",
       "      <td>-</td>\n",
       "      <td>good</td>\n",
       "      <td>441.0</td>\n",
       "    </tr>\n",
       "    <tr>\n",
       "      <th>1</th>\n",
       "      <td>Abe Sapien</td>\n",
       "      <td>Male</td>\n",
       "      <td>blue</td>\n",
       "      <td>Icthyo Sapien</td>\n",
       "      <td>No Hair</td>\n",
       "      <td>191.0</td>\n",
       "      <td>Dark Horse Comics</td>\n",
       "      <td>blue</td>\n",
       "      <td>good</td>\n",
       "      <td>65.0</td>\n",
       "    </tr>\n",
       "    <tr>\n",
       "      <th>2</th>\n",
       "      <td>Abin Sur</td>\n",
       "      <td>Male</td>\n",
       "      <td>blue</td>\n",
       "      <td>Ungaran</td>\n",
       "      <td>No Hair</td>\n",
       "      <td>185.0</td>\n",
       "      <td>DC Comics</td>\n",
       "      <td>red</td>\n",
       "      <td>good</td>\n",
       "      <td>90.0</td>\n",
       "    </tr>\n",
       "    <tr>\n",
       "      <th>3</th>\n",
       "      <td>Abomination</td>\n",
       "      <td>Male</td>\n",
       "      <td>green</td>\n",
       "      <td>Human / Radiation</td>\n",
       "      <td>No Hair</td>\n",
       "      <td>203.0</td>\n",
       "      <td>Marvel Comics</td>\n",
       "      <td>-</td>\n",
       "      <td>bad</td>\n",
       "      <td>441.0</td>\n",
       "    </tr>\n",
       "    <tr>\n",
       "      <th>4</th>\n",
       "      <td>Abraxas</td>\n",
       "      <td>Male</td>\n",
       "      <td>blue</td>\n",
       "      <td>Cosmic Entity</td>\n",
       "      <td>Black</td>\n",
       "      <td>-99.0</td>\n",
       "      <td>Marvel Comics</td>\n",
       "      <td>-</td>\n",
       "      <td>bad</td>\n",
       "      <td>-99.0</td>\n",
       "    </tr>\n",
       "  </tbody>\n",
       "</table>\n",
       "</div>"
      ],
      "text/plain": [
       "          name Gender Eye color               Race Hair color  Height  \\\n",
       "0       A-Bomb   Male    yellow              Human    No Hair   203.0   \n",
       "1   Abe Sapien   Male      blue      Icthyo Sapien    No Hair   191.0   \n",
       "2     Abin Sur   Male      blue            Ungaran    No Hair   185.0   \n",
       "3  Abomination   Male     green  Human / Radiation    No Hair   203.0   \n",
       "4      Abraxas   Male      blue      Cosmic Entity      Black   -99.0   \n",
       "\n",
       "           Publisher Skin color Alignment  Weight  \n",
       "0      Marvel Comics          -      good   441.0  \n",
       "1  Dark Horse Comics       blue      good    65.0  \n",
       "2          DC Comics        red      good    90.0  \n",
       "3      Marvel Comics          -       bad   441.0  \n",
       "4      Marvel Comics          -       bad   -99.0  "
      ]
     },
     "execution_count": 3,
     "metadata": {},
     "output_type": "execute_result"
    }
   ],
   "source": [
    "try:\n",
    "    heroes_df = heroes_df.drop('Unnamed: 0', axis=1)\n",
    "except:\n",
    "    print('already dropped')\n",
    "heroes_df.head()"
   ]
  },
  {
   "cell_type": "markdown",
   "metadata": {},
   "source": [
    "## Familiarize yourself with the dataset\n",
    "\n",
    "The first step in our Exploratory Data Analysis will be to get familiar with the data.  This step includes:\n",
    "\n",
    "* Understanding the dimensionality of your dataset\n",
    "* Investigating what type of data it contains, and the data types used to store it\n",
    "* Discovering how missing values are encoded, and how many there are\n",
    "* Getting a feel for what information it does and doesn't contain\n",
    "\n",
    "In the cell below, get the descriptive statistics of each DataFrame.  "
   ]
  },
  {
   "cell_type": "code",
   "execution_count": 4,
   "metadata": {},
   "outputs": [
    {
     "name": "stdout",
     "output_type": "stream",
     "text": [
      "<class 'pandas.core.frame.DataFrame'>\n",
      "RangeIndex: 734 entries, 0 to 733\n",
      "Data columns (total 10 columns):\n",
      " #   Column      Non-Null Count  Dtype  \n",
      "---  ------      --------------  -----  \n",
      " 0   name        734 non-null    object \n",
      " 1   Gender      734 non-null    object \n",
      " 2   Eye color   734 non-null    object \n",
      " 3   Race        734 non-null    object \n",
      " 4   Hair color  734 non-null    object \n",
      " 5   Height      734 non-null    float64\n",
      " 6   Publisher   719 non-null    object \n",
      " 7   Skin color  734 non-null    object \n",
      " 8   Alignment   734 non-null    object \n",
      " 9   Weight      732 non-null    float64\n",
      "dtypes: float64(2), object(8)\n",
      "memory usage: 57.5+ KB\n",
      "<class 'pandas.core.frame.DataFrame'>\n",
      "RangeIndex: 667 entries, 0 to 666\n",
      "Columns: 168 entries, hero_names to Omniscient\n",
      "dtypes: bool(167), object(1)\n",
      "memory usage: 114.1+ KB\n"
     ]
    }
   ],
   "source": [
    "heroes_df.info()\n",
    "powers_df.info()"
   ]
  },
  {
   "cell_type": "markdown",
   "metadata": {},
   "source": [
    "## Dealing with missing values\n",
    "\n",
    "Starting in the cell below, detect and deal with any missing values in either DataFrame. Then, explain your methodology for detecting and dealing with outliers in the markdown section below. Be sure to explain your strategy for dealing with missing values in numeric columns, as well as your strategy for dealing with missing values in non-numeric columns.  \n",
    "\n",
    "Note that if you need to add more cells to write code in, you can do this by:\n",
    "\n",
    "**1.** Highlighting a cell and then pressing `ESC` to enter command mode.  \n",
    "**2.** Press `A` to add a cell above the highlighted cell, or `B` to add a cell below the highlighted cell. \n",
    "\n",
    "Describe your strategy below this line:\n",
    "____________________________________________________________________________________________________________________________\n",
    "\n",
    "Strategy - use isna() to identify any pure na values.  Next, inspect numerical columns using valuecounts to see if there are any overly common/unexpected values.\n",
    "Finally, use unique on remaining columns to see if there are any non-na but still missing or placeholder values.\n",
    "\n",
    "Once they are identified, find frequency of na values and replace or remove as appropriate (as described below).\n",
    "\n",
    "\n",
    "NB: Also, we should probably check for duplicated values at some point."
   ]
  },
  {
   "cell_type": "code",
   "execution_count": 5,
   "metadata": {},
   "outputs": [
    {
     "data": {
      "text/plain": [
       "name          False\n",
       "Gender        False\n",
       "Eye color     False\n",
       "Race          False\n",
       "Hair color    False\n",
       "Height        False\n",
       "Publisher      True\n",
       "Skin color    False\n",
       "Alignment     False\n",
       "Weight         True\n",
       "dtype: bool"
      ]
     },
     "metadata": {},
     "output_type": "display_data"
    },
    {
     "data": {
      "text/plain": [
       "hero_names               False\n",
       "Agility                  False\n",
       "Accelerated Healing      False\n",
       "Lantern Power Ring       False\n",
       "Dimensional Awareness    False\n",
       "                         ...  \n",
       "Phoenix Force            False\n",
       "Molecular Dissipation    False\n",
       "Vision - Cryo            False\n",
       "Omnipresent              False\n",
       "Omniscient               False\n",
       "Length: 168, dtype: bool"
      ]
     },
     "metadata": {},
     "output_type": "display_data"
    },
    {
     "data": {
      "text/plain": [
       "name   Gender  Eye color  Race   Hair color  Height  Publisher  Skin color  Alignment  Weight\n",
       "False  False   False      False  False       False   False      False       False      False     719\n",
       "                                                     True       False       False      False      13\n",
       "                                                                                       True        2\n",
       "dtype: int64"
      ]
     },
     "metadata": {},
     "output_type": "display_data"
    },
    {
     "data": {
      "text/plain": [
       "0    168\n",
       "dtype: int64"
      ]
     },
     "metadata": {},
     "output_type": "display_data"
    }
   ],
   "source": [
    "display(heroes_df.isna().any(),\n",
    "        powers_df.isna().any())\n",
    "\n",
    "#display(powers_df.isna().sum().loc[True]) #this brings a key error so there are no na's\n",
    "display(heroes_df.isna().value_counts())\n",
    "display(powers_df.isna().sum().value_counts())\n",
    "\n",
    "#So, it appears that Publisher, and Weight have some na values.  \n",
    "#I want to inspect alignment and skin color as well since they have two false outputs."
   ]
  },
  {
   "cell_type": "code",
   "execution_count": 6,
   "metadata": {},
   "outputs": [
    {
     "data": {
      "text/plain": [
       "name   Gender  Eye color  Race   Hair color  Height  Publisher  Skin color  Alignment  Weight\n",
       "False  False   False      False  False       False   False      False       False      False     719\n",
       "                                                     True       False       False      False      13\n",
       "                                                                                       True        2\n",
       "dtype: int64"
      ]
     },
     "metadata": {},
     "output_type": "display_data"
    },
    {
     "name": "stdout",
     "output_type": "stream",
     "text": [
      "Values for Publisher:\n",
      "['Marvel Comics' 'Dark Horse Comics' 'DC Comics' 'NBC - Heroes'\n",
      " 'Wildstorm' 'Image Comics' nan 'Icon Comics' 'SyFy' 'Hanna-Barbera'\n",
      " 'George Lucas' 'Team Epic TV' 'South Park' 'HarperCollins' 'ABC Studios'\n",
      " 'Universal Studios' 'Star Trek' 'IDW Publishing' 'Shueisha'\n",
      " 'Sony Pictures' 'J. K. Rowling' 'Titan Books' 'Rebellion' 'Microsoft'\n",
      " 'J. R. R. Tolkien']\n",
      "\n",
      "\n",
      "Values for Weight:\n",
      "[441.  65.  90. -99. 122.  88.  61.  81. 104. 108.  72. 169. 173. 101.\n",
      "  68.  57.  54.  83.  86. 358. 135. 106. 146.  63.  98. 270.  59.  50.\n",
      " 126.  67. 180.  77.  52.  95.  79. 133. 181. 216.  71. 124. 155. 113.\n",
      "  58.  92.  97.  56. 230. 495.  55. 110.  99. 158.  74. 116.  62. 170.\n",
      "  70.  78. 225. 817.  27.  91. 178. 383. 171. 187. 132.  89. 412. 306.\n",
      "  80. 203.  96.  18.  45. 167.  16. 630. 268.  nan 115.   4.  48. 119.\n",
      " 207. 191.   2.  14.  49. 855. 356. 324. 360. 288. 236.  36. 140. 128.\n",
      " 338. 248. 125.  85. 293.  69. 405. 117.  87. 234. 320.  38.  25. 900.\n",
      " 310. 149. 315. 153. 437. 131.  47. 176. 198. 443. 143.  76.  82. 105.\n",
      " 331. 214.  73. 334.  41. 162.  39. 473.  51.  17.]\n",
      "\n",
      "\n"
     ]
    },
    {
     "data": {
      "text/plain": [
       "'height value counts:'"
      ]
     },
     "metadata": {},
     "output_type": "display_data"
    },
    {
     "data": {
      "text/plain": [
       "-99.0     217\n",
       " 183.0     59\n",
       " 188.0     51\n",
       " 178.0     39\n",
       " 180.0     38\n",
       " 185.0     35\n",
       " 175.0     34\n",
       " 168.0     29\n",
       " 170.0     26\n",
       " 165.0     26\n",
       " 191.0     21\n",
       " 193.0     21\n",
       " 198.0     18\n",
       " 173.0     17\n",
       " 201.0     11\n",
       " 196.0     11\n",
       " 163.0      8\n",
       " 213.0      7\n",
       " 203.0      5\n",
       " 211.0      5\n",
       " 157.0      5\n",
       " 244.0      4\n",
       " 229.0      3\n",
       " 155.0      3\n",
       " 218.0      3\n",
       " 226.0      3\n",
       " 122.0      2\n",
       " 206.0      2\n",
       " 279.0      2\n",
       " 366.0      2\n",
       " 137.0      2\n",
       " 30.5       2\n",
       " 305.0      2\n",
       " 61.0       1\n",
       " 975.0      1\n",
       " 142.0      1\n",
       " 287.0      1\n",
       " 267.0      1\n",
       " 304.8      1\n",
       " 701.0      1\n",
       " 876.0      1\n",
       " 259.0      1\n",
       " 15.2       1\n",
       " 297.0      1\n",
       " 257.0      1\n",
       " 62.5       1\n",
       " 66.0       1\n",
       " 160.0      1\n",
       " 140.0      1\n",
       " 234.0      1\n",
       " 71.0       1\n",
       " 79.0       1\n",
       " 108.0      1\n",
       " 64.0       1\n",
       "Name: Height, dtype: int64"
      ]
     },
     "metadata": {},
     "output_type": "display_data"
    },
    {
     "name": "stdout",
     "output_type": "stream",
     "text": [
      "Publisher NaNs: 15\n"
     ]
    },
    {
     "data": {
      "text/plain": [
       "'Weight NaNs:'"
      ]
     },
     "metadata": {},
     "output_type": "display_data"
    },
    {
     "data": {
      "text/plain": [
       "2"
      ]
     },
     "metadata": {},
     "output_type": "display_data"
    },
    {
     "data": {
      "text/plain": [
       "'After dropping NaNs:'"
      ]
     },
     "metadata": {},
     "output_type": "display_data"
    },
    {
     "data": {
      "text/plain": [
       "array(['Marvel Comics', 'Dark Horse Comics', 'DC Comics', 'NBC - Heroes',\n",
       "       'Wildstorm', 'Image Comics', 'Icon Comics', 'SyFy',\n",
       "       'Hanna-Barbera', 'George Lucas', 'Team Epic TV', 'South Park',\n",
       "       'HarperCollins', 'ABC Studios', 'Universal Studios', 'Star Trek',\n",
       "       'IDW Publishing', 'Shueisha', 'Sony Pictures', 'J. K. Rowling',\n",
       "       'Titan Books', 'Rebellion', 'Microsoft', 'J. R. R. Tolkien'],\n",
       "      dtype=object)"
      ]
     },
     "metadata": {},
     "output_type": "display_data"
    },
    {
     "data": {
      "text/plain": [
       "0      441.0\n",
       "1       65.0\n",
       "2       90.0\n",
       "3      441.0\n",
       "5      122.0\n",
       "       ...  \n",
       "728     83.0\n",
       "729     52.0\n",
       "731     17.0\n",
       "732     57.0\n",
       "733     81.0\n",
       "Name: Weight, Length: 494, dtype: float64"
      ]
     },
     "metadata": {},
     "output_type": "display_data"
    },
    {
     "data": {
      "text/plain": [
       "Series([], Name: Weight, dtype: float64)"
      ]
     },
     "metadata": {},
     "output_type": "display_data"
    },
    {
     "data": {
      "text/plain": [
       "'Weight NaNs after drop:'"
      ]
     },
     "metadata": {},
     "output_type": "display_data"
    },
    {
     "data": {
      "text/plain": [
       "0.0"
      ]
     },
     "metadata": {},
     "output_type": "display_data"
    },
    {
     "data": {
      "text/html": [
       "<div>\n",
       "<style scoped>\n",
       "    .dataframe tbody tr th:only-of-type {\n",
       "        vertical-align: middle;\n",
       "    }\n",
       "\n",
       "    .dataframe tbody tr th {\n",
       "        vertical-align: top;\n",
       "    }\n",
       "\n",
       "    .dataframe thead th {\n",
       "        text-align: right;\n",
       "    }\n",
       "</style>\n",
       "<table border=\"1\" class=\"dataframe\">\n",
       "  <thead>\n",
       "    <tr style=\"text-align: right;\">\n",
       "      <th></th>\n",
       "      <th>name</th>\n",
       "      <th>Gender</th>\n",
       "      <th>Eye color</th>\n",
       "      <th>Race</th>\n",
       "      <th>Hair color</th>\n",
       "      <th>Height</th>\n",
       "      <th>Publisher</th>\n",
       "      <th>Skin color</th>\n",
       "      <th>Alignment</th>\n",
       "      <th>Weight</th>\n",
       "    </tr>\n",
       "  </thead>\n",
       "  <tbody>\n",
       "    <tr>\n",
       "      <th>289</th>\n",
       "      <td>Goliath</td>\n",
       "      <td>Male</td>\n",
       "      <td>-</td>\n",
       "      <td>-</td>\n",
       "      <td>-</td>\n",
       "      <td>183.0</td>\n",
       "      <td>Marvel Comics</td>\n",
       "      <td>-</td>\n",
       "      <td>good</td>\n",
       "      <td>81.0</td>\n",
       "    </tr>\n",
       "    <tr>\n",
       "      <th>290</th>\n",
       "      <td>Goliath</td>\n",
       "      <td>Male</td>\n",
       "      <td>-</td>\n",
       "      <td>Human</td>\n",
       "      <td>-</td>\n",
       "      <td>183.0</td>\n",
       "      <td>Marvel Comics</td>\n",
       "      <td>-</td>\n",
       "      <td>good</td>\n",
       "      <td>81.0</td>\n",
       "    </tr>\n",
       "    <tr>\n",
       "      <th>291</th>\n",
       "      <td>Goliath</td>\n",
       "      <td>Male</td>\n",
       "      <td>-</td>\n",
       "      <td>Human</td>\n",
       "      <td>-</td>\n",
       "      <td>183.0</td>\n",
       "      <td>Marvel Comics</td>\n",
       "      <td>-</td>\n",
       "      <td>good</td>\n",
       "      <td>81.0</td>\n",
       "    </tr>\n",
       "  </tbody>\n",
       "</table>\n",
       "</div>"
      ],
      "text/plain": [
       "        name Gender Eye color   Race Hair color  Height      Publisher  \\\n",
       "289  Goliath   Male         -      -          -   183.0  Marvel Comics   \n",
       "290  Goliath   Male         -  Human          -   183.0  Marvel Comics   \n",
       "291  Goliath   Male         -  Human          -   183.0  Marvel Comics   \n",
       "\n",
       "    Skin color Alignment  Weight  \n",
       "289          -      good    81.0  \n",
       "290          -      good    81.0  \n",
       "291          -      good    81.0  "
      ]
     },
     "execution_count": 6,
     "metadata": {},
     "output_type": "execute_result"
    }
   ],
   "source": [
    "#heroes_df fixes\n",
    "display(heroes_df.isna().value_counts())\n",
    "for col in ['Publisher','Weight' ]:\n",
    "    print('Values for {}:\\n{}\\n\\n'.format(col, heroes_df[col].unique()))\n",
    "    \n",
    "#After this inspection, we see that there are nan's in Publisher and -99s in Weight.  We should also inspect other numerical \n",
    "#columns, in this case just Height, for placeholders\n",
    "\n",
    "display('height value counts:',heroes_df.Height.value_counts())\n",
    "\n",
    "#So we see that Height also has -99 placeholders\n",
    "\n",
    "\n",
    "heroes_df.Publisher.value_counts(normalize=True)\n",
    "heroes_df.loc[heroes_df['Publisher'].isna()]\n",
    "print('Publisher NaNs:', len(heroes_df.loc[heroes_df['Publisher'].isna()]))\n",
    "#There are 15 nan values.  They are all associated with characters that generally are associated with other mediums.  \n",
    "#Note they often also have a -99 weight...so we may kill two birds with one stone.  I'm inclined to remove them so far.\n",
    "\n",
    "#inspecting Weight values\n",
    "heroes_df.Weight.value_counts(normalize=True)\n",
    "#32% of characters have a placeholder weight!!!\n",
    "#We shouldn't drop these rows.  But enough characters do have a weight that I don't want to drop the column either.\n",
    "#So, I'll replace the na's with the median value.\n",
    "#in addition, there are nan's here too\n",
    "display(\"Weight NaNs:\", heroes_df.Weight.isna().sum())\n",
    "#it seems just 2 of them\n",
    "\n",
    "#So, let's just drop all NaN rows from the table.\n",
    "heroes_df.dropna(inplace=True)\n",
    "display('After dropping NaNs:', heroes_df.Publisher.unique())\n",
    "\n",
    "h_weight_no_placeholders = heroes_df.Weight[heroes_df.Weight != -99.]\n",
    "display(h_weight_no_placeholders)\n",
    "display(h_weight_no_placeholders[h_weight_no_placeholders.isna()])\n",
    "h_weight_no_placeholders = h_weight_no_placeholders[h_weight_no_placeholders.isna()==False]\n",
    "display('Weight NaNs after drop:',\n",
    "        h_weight_no_placeholders[h_weight_no_placeholders.isna()].sum()) #so we've removed -99s and NaNs\n",
    "weight_median = h_weight_no_placeholders.median()\n",
    "\n",
    "def impute_weight(value):\n",
    "    if value == -99:\n",
    "        return weight_median\n",
    "    else:\n",
    "        return value\n",
    "heroes_df.Weight = heroes_df['Weight'].map(lambda x: impute_weight(x))\n",
    "heroes_df.Weight.apply(['mean', 'median', 'std'])\n",
    "heroes_df.Weight.value_counts()\n",
    "\n",
    "#ultimately, this makes a huge peak at the median value, but doesn't skew data or lose data.\n",
    "\n",
    "#we give similar treatment to height\n",
    "h_height_no_placeholders = heroes_df.Height[heroes_df.Height != -99.]\n",
    "#display(h_height_no_placeholders)\n",
    "#display(h_height_no_placeholders[h_height_no_placeholders.isna()])\n",
    "h_height_no_placeholders = h_height_no_placeholders[h_height_no_placeholders.isna()==False]\n",
    "#display('height NaNs after drop:',\n",
    "#        h_height_no_placeholders[h_height_no_placeholders.isna()].sum()) #so we've removed -99s and NaNs\n",
    "height_median = h_height_no_placeholders.median()\n",
    "def impute_height(value):\n",
    "    if value == -99:\n",
    "        return height_median\n",
    "    else:\n",
    "        return value\n",
    "heroes_df.Height = heroes_df['Height'].map(lambda x: impute_height(x))\n",
    "\n",
    "#reminder: check for duplicated values\n",
    "#there are duplicates, but we weren't yet asked to remove them so I will leave them.\n",
    "heroes_df[heroes_df.duplicated()]\n",
    "heroes_df.loc[heroes_df['name']=='Goliath']"
   ]
  },
  {
   "cell_type": "code",
   "execution_count": 7,
   "metadata": {},
   "outputs": [
    {
     "name": "stdout",
     "output_type": "stream",
     "text": [
      "Values for hero_names:\n",
      "['3-D Man' 'A-Bomb' 'Abe Sapien' 'Abin Sur' 'Abomination' 'Abraxas'\n",
      " 'Absorbing Man' 'Adam Monroe' 'Adam Strange' 'Agent Bob' 'Agent Zero'\n",
      " 'Air-Walker' 'Ajax' 'Alan Scott' 'Alex Mercer' 'Alex Woolsly' 'Alien'\n",
      " 'Allan Quatermain' 'Amazo' 'Ammo' 'Ando Masahashi' 'Angel' 'Angel Dust'\n",
      " 'Angel Salvadore' 'Angela' 'Animal Man' 'Annihilus' 'Ant-Man'\n",
      " 'Ant-Man II' 'Anti-Monitor' 'Anti-Spawn' 'Anti-Venom' 'Apocalypse'\n",
      " 'Aquababy' 'Aqualad' 'Aquaman' 'Arachne' 'Archangel' 'Arclight' 'Ardina'\n",
      " 'Ares' 'Ariel' 'Armor' 'Astro Boy' 'Atlas' 'Atom' 'Atom Girl' 'Atom II'\n",
      " 'Atom III' 'Atom IV' 'Aurora' 'Azazel' 'Azrael' 'Aztar' 'Bananaman'\n",
      " 'Bane' 'Banshee' 'Bantam' 'Batgirl' 'Batgirl IV' 'Batgirl VI' 'Batman'\n",
      " 'Batman II' 'Battlestar' 'Batwoman V' 'Beak' 'Beast' 'Beast Boy' 'Ben 10'\n",
      " 'Beta Ray Bill' 'Beyonder' 'Big Barda' 'Big Daddy' 'Big Man'\n",
      " 'Bill Harken' 'Billy Kincaid' 'Binary' 'Bionic Woman' 'Bird-Brain'\n",
      " 'Bird-Man' 'Bird-Man II' 'Birdman' 'Bishop' 'Bizarro' 'Bizarro-Girl'\n",
      " 'Black Abbott' 'Black Adam' 'Black Bolt' 'Black Canary' 'Black Cat'\n",
      " 'Black Flash' 'Black Knight III' 'Black Lightning' 'Black Mamba'\n",
      " 'Black Manta' 'Black Panther' 'Black Vulcan' 'Black Widow' 'Blackout'\n",
      " 'Blackwing' 'Blackwulf' 'Blade' 'Bling!' 'Blink' 'Blizzard' 'Blizzard II'\n",
      " 'Blob' 'Bloodaxe' 'Bloodhawk' 'Bloodwraith' 'Blue Beetle'\n",
      " 'Blue Beetle II' 'Blue Beetle III' 'Blue Streak' 'Boba Fett' 'Bomb Queen'\n",
      " 'Boom-Boom' 'Booster Gold' 'Box IV' 'Bradley' 'Brainiac' 'Brainiac 5'\n",
      " 'Brother Voodoo' 'Brundlefly' 'Buffy' 'Bullseye' 'Bumblebee' 'Bumbleboy'\n",
      " 'Bushido' 'Cable' 'Callisto' 'Cameron Hicks' 'Cannonball'\n",
      " 'Captain America' 'Captain Atom' 'Captain Britain' 'Captain Cold'\n",
      " 'Captain Epic' 'Captain Hindsight' 'Captain Marvel' 'Captain Marvel II'\n",
      " 'Captain Midnight' 'Captain Planet' 'Captain Universe' 'Carnage' 'Cat'\n",
      " 'Catwoman' 'Century' 'Cerebra' 'Chamber' 'Chameleon' 'Changeling'\n",
      " 'Cheetah' 'Cheetah II' 'Cheetah III' 'Chromos' 'Chuck Norris'\n",
      " 'Citizen Steel' 'Claire Bennet' 'Clayface' 'Cloak' 'Cogliostro'\n",
      " 'Colossus' 'Concrete' 'Copycat' 'Cottonmouth' 'Crimson Crusader'\n",
      " 'Crimson Dynamo' 'Crystal' 'Curse' 'Cy-Gor' 'Cyborg' 'Cyborg Superman'\n",
      " 'Cyclops' 'DL Hawkins' 'Dagger' 'Daphne Powell' 'Daredevil' 'Darkhawk'\n",
      " 'Darkman' 'Darkseid' 'Darkstar' 'Darth Maul' 'Darth Vader' 'Dash' 'Data'\n",
      " 'Dazzler' 'Deadman' 'Deadpool' 'Deadshot' 'Deathlok' 'Deathstroke'\n",
      " 'Dementor' 'Demogoblin' 'Destroyer' 'Diamondback' 'Doc Samson'\n",
      " 'Doctor Doom' 'Doctor Doom II' 'Doctor Fate' 'Doctor Octopus'\n",
      " 'Doctor Poison' 'Doctor Strange' 'Domino' 'Donatello' 'Donna Troy'\n",
      " 'Doomsday' 'Doppelganger' 'Dormammu' 'Dr Manhattan' 'Drax the Destroyer'\n",
      " 'Ego' 'Elastigirl' 'Electro' 'Elektra' 'Elle Bishop' 'Elongated Man'\n",
      " 'Emma Frost' 'Enchantress' 'Energy' 'Ethan Hunt' 'Etrigan'\n",
      " 'Evil Deadpool' 'Evilhawk' 'Exodus' 'Fabian Cortez' 'Falcon'\n",
      " 'Fallen One II' 'Faora' 'Feral' 'Fighting Spirit' 'Fin Fang Foom' 'Fire'\n",
      " 'Firebird' 'Firelord' 'Firestar' 'Firestorm' 'Flash' 'Flash Gordon'\n",
      " 'Flash II' 'Flash III' 'Flash IV' 'Forge' 'Franklin Richards' 'Frenzy'\n",
      " 'Frigga' 'Galactus' 'Gambit' 'Gamora' 'Garbage Man' 'Gary Bell'\n",
      " 'General Zod' 'Genesis' 'Ghost Rider' 'Ghost Rider II' 'Giganta'\n",
      " 'Gladiator' 'Goblin Queen' 'Godzilla' 'Gog' 'Goku' 'Goliath IV'\n",
      " 'Gorilla Grodd' 'Granny Goodness' 'Gravity' 'Greedo' 'Green Arrow'\n",
      " 'Green Goblin' 'Green Goblin II' 'Green Goblin III' 'Green Goblin IV'\n",
      " 'Groot' 'Guy Gardner' 'Hal Jordan' 'Han Solo' 'Hancock' 'Harley Quinn'\n",
      " 'Harry Potter' 'Havok' 'Hawk' 'Hawkeye' 'Hawkeye II' 'Hawkgirl' 'Hawkman'\n",
      " 'Heat Wave' 'Hela' 'Hellboy' 'Hellcat' 'Hellgramite' 'Hellstorm'\n",
      " 'Hercules' 'Hiro Nakamura' 'Hit-Girl' 'Hobgoblin' 'Hollow' 'Hope Summers'\n",
      " 'Hulk' 'Human Torch' 'Huntress' 'Husk' 'Hybrid' 'Hydro-Man' 'Hyperion'\n",
      " 'Iceman' 'Impulse' 'Indiana Jones' 'Indigo' 'Ink' 'Invisible Woman'\n",
      " 'Iron Fist' 'Iron Man' 'Iron Monger' 'Isis' 'JJ Powell' 'Jack of Hearts'\n",
      " 'Jack-Jack' 'James Bond' 'James T. Kirk' 'Jar Jar Binks' 'Jason Bourne'\n",
      " 'Jean Grey' 'Jean-Luc Picard' 'Jennifer Kale' 'Jessica Cruz'\n",
      " 'Jessica Jones' 'Jim Powell' 'Johann Krauss' 'John Constantine'\n",
      " 'John Stewart' 'John Wraith' 'Joker' 'Jolt' 'Jubilee' 'Judge Dredd'\n",
      " 'Juggernaut' 'Junkpile' 'Justice' 'K-2SO' 'Kang' 'Karate Kid'\n",
      " 'Kathryn Janeway' 'Katniss Everdeen' 'Kevin 11' 'Kick-Ass' 'Kid Flash'\n",
      " 'Killer Croc' 'Killer Frost' 'Kilowog' 'King Kong' 'King Shark' 'Klaw'\n",
      " 'Kool-Aid Man' 'Kraven II' 'Kraven the Hunter' 'Krypto' 'Kyle Rayner'\n",
      " 'Kylo Ren' 'Lady Bullseye' 'Lady Deathstrike' 'Lara Croft' 'Leader'\n",
      " 'Leech' 'Legion' 'Leonardo' 'Lex Luthor' 'Light Lass' 'Lightning Lad'\n",
      " 'Lightning Lord' 'Little Epic' 'Living Brain' 'Living Tribunal'\n",
      " 'Liz Sherman' 'Lizard' 'Lobo' 'Loki' 'Longshot' 'Lord Voldemort'\n",
      " 'Luke Cage' 'Luke Campbell' 'Luke Skywalker' 'Luna' 'Lyja' 'MODOK'\n",
      " 'Mach-IV' 'Machine Man' 'Magneto' 'Magog' 'Magus' 'Man of Miracles'\n",
      " 'Man-Bat' 'Man-Thing' 'Man-Wolf' 'Mandarin' 'Mantis' 'Martian Manhunter'\n",
      " 'Marvel Girl' 'Master Brood' 'Master Chief' 'Match' 'Matt Parkman'\n",
      " 'Maverick' 'Maxima' 'Maya Herrera' 'Medusa' 'Meltdown' 'Mephisto' 'Mera'\n",
      " 'Metallo' 'Metamorpho' 'Metron' 'Micah Sanders' 'Michelangelo'\n",
      " 'Micro Lad' 'Mimic' 'Minna Murray' 'Misfit' 'Miss Martian'\n",
      " 'Mister Fantastic' 'Mister Freeze' 'Mister Knife' 'Mister Mxyzptlk'\n",
      " 'Mister Sinister' 'Mockingbird' 'Mohinder Suresh' 'Molten Man' 'Monarch'\n",
      " 'Monica Dawson' 'Moon Knight' 'Moonstone' 'Morlun' 'Moses Magnum'\n",
      " 'Mr Immortal' 'Mr Incredible' 'Ms Marvel II' 'Multiple Man' 'Mysterio'\n",
      " 'Mystique' 'Namor' 'Namora' 'Namorita' 'Naruto Uzumaki' 'Nathan Petrelli'\n",
      " 'Nebula' 'Negasonic Teenage Warhead' 'Nick Fury' 'Nightcrawler'\n",
      " 'Nightwing' 'Niki Sanders' 'Nina Theroux' 'Northstar' 'Nova' 'Odin'\n",
      " 'Offspring' 'Omniscient' 'One Punch Man' 'One-Above-All' 'Onslaught'\n",
      " 'Oracle' 'Orion' 'Osiris' 'Overtkill' 'Ozymandias' 'Parademon'\n",
      " 'Peek-a-Boo' 'Penance II' 'Penguin' 'Peter Petrelli' 'Phantom'\n",
      " 'Phantom Girl' 'Phoenix' 'Plantman' 'Plastic Man' 'Plastique'\n",
      " 'Poison Ivy' 'Polaris' 'Power Girl' 'Predator' 'Professor X'\n",
      " 'Professor Zoom' 'Proto-Goblin' 'Psylocke' 'Punisher' 'Purple Man' 'Pyro'\n",
      " 'Q' 'Quantum' 'Queen Hippolyta' 'Question' 'Quicksilver' 'Quill'\n",
      " \"Ra's Al Ghul\" 'Rachel Pirzad' 'Rambo' 'Raphael' 'Raven' 'Ray'\n",
      " 'Razor-Fist II' 'Reactron' 'Red Arrow' 'Red Hood' 'Red Hulk' 'Red Mist'\n",
      " 'Red Robin' 'Red Skull' 'Red Tornado' 'Redeemer II' 'Redeemer III' 'Rey'\n",
      " 'Rhino' 'Rick Flag' 'Riddler' 'Rip Hunter' 'Ripcord' 'Robin' 'Robin II'\n",
      " 'Robin III' 'Robin V' 'Robin VI' 'Rocket Raccoon' 'Rogue' 'Rorschach'\n",
      " 'SHDB' 'Sabretooth' 'Sage' 'Sandman' 'Sasquatch' 'Sauron' 'Savage Dragon'\n",
      " 'Scarecrow' 'Scarlet Spider' 'Scarlet Spider II' 'Scarlet Witch'\n",
      " 'Scorpia' 'Scorpion' 'Sebastian Shaw' 'Sentry' 'Shadow King'\n",
      " 'Shadow Lass' 'Shadowcat' 'Shang-Chi' 'Shatterstar' 'She-Hulk'\n",
      " 'She-Thing' 'Shocker' 'Shriek' 'Sif' 'Silk' 'Silk Spectre'\n",
      " 'Silk Spectre II' 'Silver Surfer' 'Silverclaw' 'Simon Baz' 'Sinestro'\n",
      " 'Siren' 'Siren II' 'Siryn' 'Skaar' 'Snowbird' 'Sobek' 'Solomon Grundy'\n",
      " 'Songbird' 'Space Ghost' 'Spawn' 'Spectre' 'Speedball' 'Speedy'\n",
      " 'Spider-Girl' 'Spider-Gwen' 'Spider-Man' 'Spider-Woman'\n",
      " 'Spider-Woman III' 'Spider-Woman IV' 'Spock' 'Spyke' 'Star-Lord'\n",
      " 'Stardust' 'Starfire' 'Stargirl' 'Static' 'Steel' 'Stephanie Powell'\n",
      " 'Steppenwolf' 'Storm' 'Stormtrooper' 'Stretch Armstrong' 'Sunspot'\n",
      " 'Superboy' 'Superboy-Prime' 'Supergirl' 'Superman' 'Swamp Thing' 'Swarm'\n",
      " 'Sylar' 'Synch' 'T-1000' 'T-800' 'T-850' 'T-X' 'TEST' 'Taskmaster'\n",
      " 'Tempest' 'Thanos' 'The Cape' 'The Comedian' 'Thing' 'Thor' 'Thor Girl'\n",
      " 'Thunderbird' 'Thunderbird III' 'Thunderstrike' 'Thundra' 'Tiger Shark'\n",
      " 'Tigra' 'Tinkerer' 'Titan' 'Toad' 'Tommy Clarke' 'Toxin' 'Tracy Strauss'\n",
      " 'Trickster' 'Trigon' 'Triplicate Girl' 'Triton' 'Tyrant' 'Ultragirl'\n",
      " 'Ultron' 'Utgard-Loki' 'Valerie Hart' 'Valkyrie' 'Vanisher' 'Vegeta'\n",
      " 'Venom' 'Venom II' 'Venom III' 'Venompool' 'Vertigo II' 'Vibe'\n",
      " 'Vindicator' 'Violator' 'Violet Parr' 'Vision' 'Vixen' 'Vulture' 'Walrus'\n",
      " 'War Machine' 'Warlock' 'Warp' 'Warpath' 'Wasp' 'Watcher' 'Weapon XI'\n",
      " 'White Canary' 'Wildfire' 'Winter Soldier' 'Wolfsbane' 'Wolverine'\n",
      " 'Wonder Girl' 'Wonder Man' 'Wonder Woman' 'X-23' 'X-Man' 'Yellowjacket'\n",
      " 'Yellowjacket II' 'Ymir' 'Yoda' 'Zatanna' 'Zoom']\n",
      "\n",
      "\n"
     ]
    },
    {
     "data": {
      "text/html": [
       "<div>\n",
       "<style scoped>\n",
       "    .dataframe tbody tr th:only-of-type {\n",
       "        vertical-align: middle;\n",
       "    }\n",
       "\n",
       "    .dataframe tbody tr th {\n",
       "        vertical-align: top;\n",
       "    }\n",
       "\n",
       "    .dataframe thead th {\n",
       "        text-align: right;\n",
       "    }\n",
       "</style>\n",
       "<table border=\"1\" class=\"dataframe\">\n",
       "  <thead>\n",
       "    <tr style=\"text-align: right;\">\n",
       "      <th></th>\n",
       "      <th>hero_names</th>\n",
       "      <th>Agility</th>\n",
       "      <th>Accelerated Healing</th>\n",
       "      <th>Lantern Power Ring</th>\n",
       "      <th>Dimensional Awareness</th>\n",
       "      <th>Cold Resistance</th>\n",
       "      <th>Durability</th>\n",
       "      <th>Stealth</th>\n",
       "      <th>Energy Absorption</th>\n",
       "      <th>Flight</th>\n",
       "      <th>...</th>\n",
       "      <th>Web Creation</th>\n",
       "      <th>Reality Warping</th>\n",
       "      <th>Odin Force</th>\n",
       "      <th>Symbiote Costume</th>\n",
       "      <th>Speed Force</th>\n",
       "      <th>Phoenix Force</th>\n",
       "      <th>Molecular Dissipation</th>\n",
       "      <th>Vision - Cryo</th>\n",
       "      <th>Omnipresent</th>\n",
       "      <th>Omniscient</th>\n",
       "    </tr>\n",
       "  </thead>\n",
       "  <tbody>\n",
       "  </tbody>\n",
       "</table>\n",
       "<p>0 rows × 168 columns</p>\n",
       "</div>"
      ],
      "text/plain": [
       "Empty DataFrame\n",
       "Columns: [hero_names, Agility, Accelerated Healing, Lantern Power Ring, Dimensional Awareness, Cold Resistance, Durability, Stealth, Energy Absorption, Flight, Danger Sense, Underwater breathing, Marksmanship, Weapons Master, Power Augmentation, Animal Attributes, Longevity, Intelligence, Super Strength, Cryokinesis, Telepathy, Energy Armor, Energy Blasts, Duplication, Size Changing, Density Control, Stamina, Astral Travel, Audio Control, Dexterity, Omnitrix, Super Speed, Possession, Animal Oriented Powers, Weapon-based Powers, Electrokinesis, Darkforce Manipulation, Death Touch, Teleportation, Enhanced Senses, Telekinesis, Energy Beams, Magic, Hyperkinesis, Jump, Clairvoyance, Dimensional Travel, Power Sense, Shapeshifting, Peak Human Condition, Immortality, Camouflage, Element Control, Phasing, Astral Projection, Electrical Transport, Fire Control, Projection, Summoning, Enhanced Memory, Reflexes, Invulnerability, Energy Constructs, Force Fields, Self-Sustenance, Anti-Gravity, Empathy, Power Nullifier, Radiation Control, Psionic Powers, Elasticity, Substance Secretion, Elemental Transmogrification, Technopath/Cyberpath, Photographic Reflexes, Seismic Power, Animation, Precognition, Mind Control, Fire Resistance, Power Absorption, Enhanced Hearing, Nova Force, Insanity, Hypnokinesis, Animal Control, Natural Armor, Intangibility, Enhanced Sight, Molecular Manipulation, Heat Generation, Adaptation, Gliding, Power Suit, Mind Blast, Probability Manipulation, Gravity Control, Regeneration, Light Control, Echolocation, ...]\n",
       "Index: []\n",
       "\n",
       "[0 rows x 168 columns]"
      ]
     },
     "execution_count": 7,
     "metadata": {},
     "output_type": "execute_result"
    }
   ],
   "source": [
    "#powers_df fixes\n",
    "\n",
    "#display(powers_df.isna().value_counts())\n",
    "powers_df.columns\n",
    "#for col in powers_df.columns:\n",
    "#    print(col)\n",
    "\n",
    "for col in powers_df.columns :\n",
    "    for val in powers_df[col].unique():\n",
    "        if val not in [False, True]:\n",
    "            print('Values for {}:\\n{}\\n\\n'.format(col, powers_df[col].unique()))\n",
    "            break\n",
    "            \n",
    "#So, there are no values except True and False in columns, except for hero_names.\n",
    "\n",
    "powers_df.hero_names.isna().sum()\n",
    "#and there are no na values in the list of hero names.  \n",
    "#we can check duplicates.\n",
    "powers_df[powers_df.duplicated()]\n",
    "#appears to be no repeated rows"
   ]
  },
  {
   "cell_type": "markdown",
   "metadata": {},
   "source": [
    "## Joining, Grouping, and Aggregating\n",
    "\n",
    "In the cell below, join the two DataFrames.  Think about which sort of join you should use, as well as which columns you should join on.  Rename columns and manipulate as needed.  \n",
    "\n",
    "**_HINT:_** Consider the possibility that the columns you choose to join on contain duplicate entries. If that is the case, devise a strategy to deal with the duplicates.\n",
    "\n",
    "**_HINT:_** If the join throws an error message, consider setting the column you want to join on as the index for each DataFrame.  "
   ]
  },
  {
   "cell_type": "code",
   "execution_count": 8,
   "metadata": {},
   "outputs": [
    {
     "data": {
      "text/html": [
       "<div>\n",
       "<style scoped>\n",
       "    .dataframe tbody tr th:only-of-type {\n",
       "        vertical-align: middle;\n",
       "    }\n",
       "\n",
       "    .dataframe tbody tr th {\n",
       "        vertical-align: top;\n",
       "    }\n",
       "\n",
       "    .dataframe thead th {\n",
       "        text-align: right;\n",
       "    }\n",
       "</style>\n",
       "<table border=\"1\" class=\"dataframe\">\n",
       "  <thead>\n",
       "    <tr style=\"text-align: right;\">\n",
       "      <th></th>\n",
       "      <th>name</th>\n",
       "      <th>Gender</th>\n",
       "      <th>Eye color</th>\n",
       "      <th>Race</th>\n",
       "      <th>Hair color</th>\n",
       "      <th>Height</th>\n",
       "      <th>Publisher</th>\n",
       "      <th>Skin color</th>\n",
       "      <th>Alignment</th>\n",
       "      <th>Weight</th>\n",
       "      <th>...</th>\n",
       "      <th>Web Creation</th>\n",
       "      <th>Reality Warping</th>\n",
       "      <th>Odin Force</th>\n",
       "      <th>Symbiote Costume</th>\n",
       "      <th>Speed Force</th>\n",
       "      <th>Phoenix Force</th>\n",
       "      <th>Molecular Dissipation</th>\n",
       "      <th>Vision - Cryo</th>\n",
       "      <th>Omnipresent</th>\n",
       "      <th>Omniscient</th>\n",
       "    </tr>\n",
       "  </thead>\n",
       "  <tbody>\n",
       "    <tr>\n",
       "      <th>0</th>\n",
       "      <td>A-Bomb</td>\n",
       "      <td>Male</td>\n",
       "      <td>yellow</td>\n",
       "      <td>Human</td>\n",
       "      <td>No Hair</td>\n",
       "      <td>203.0</td>\n",
       "      <td>Marvel Comics</td>\n",
       "      <td>-</td>\n",
       "      <td>good</td>\n",
       "      <td>441.0</td>\n",
       "      <td>...</td>\n",
       "      <td>False</td>\n",
       "      <td>False</td>\n",
       "      <td>False</td>\n",
       "      <td>False</td>\n",
       "      <td>False</td>\n",
       "      <td>False</td>\n",
       "      <td>False</td>\n",
       "      <td>False</td>\n",
       "      <td>False</td>\n",
       "      <td>False</td>\n",
       "    </tr>\n",
       "    <tr>\n",
       "      <th>1</th>\n",
       "      <td>Abe Sapien</td>\n",
       "      <td>Male</td>\n",
       "      <td>blue</td>\n",
       "      <td>Icthyo Sapien</td>\n",
       "      <td>No Hair</td>\n",
       "      <td>191.0</td>\n",
       "      <td>Dark Horse Comics</td>\n",
       "      <td>blue</td>\n",
       "      <td>good</td>\n",
       "      <td>65.0</td>\n",
       "      <td>...</td>\n",
       "      <td>False</td>\n",
       "      <td>False</td>\n",
       "      <td>False</td>\n",
       "      <td>False</td>\n",
       "      <td>False</td>\n",
       "      <td>False</td>\n",
       "      <td>False</td>\n",
       "      <td>False</td>\n",
       "      <td>False</td>\n",
       "      <td>False</td>\n",
       "    </tr>\n",
       "    <tr>\n",
       "      <th>2</th>\n",
       "      <td>Abin Sur</td>\n",
       "      <td>Male</td>\n",
       "      <td>blue</td>\n",
       "      <td>Ungaran</td>\n",
       "      <td>No Hair</td>\n",
       "      <td>185.0</td>\n",
       "      <td>DC Comics</td>\n",
       "      <td>red</td>\n",
       "      <td>good</td>\n",
       "      <td>90.0</td>\n",
       "      <td>...</td>\n",
       "      <td>False</td>\n",
       "      <td>False</td>\n",
       "      <td>False</td>\n",
       "      <td>False</td>\n",
       "      <td>False</td>\n",
       "      <td>False</td>\n",
       "      <td>False</td>\n",
       "      <td>False</td>\n",
       "      <td>False</td>\n",
       "      <td>False</td>\n",
       "    </tr>\n",
       "    <tr>\n",
       "      <th>3</th>\n",
       "      <td>Abomination</td>\n",
       "      <td>Male</td>\n",
       "      <td>green</td>\n",
       "      <td>Human / Radiation</td>\n",
       "      <td>No Hair</td>\n",
       "      <td>203.0</td>\n",
       "      <td>Marvel Comics</td>\n",
       "      <td>-</td>\n",
       "      <td>bad</td>\n",
       "      <td>441.0</td>\n",
       "      <td>...</td>\n",
       "      <td>False</td>\n",
       "      <td>False</td>\n",
       "      <td>False</td>\n",
       "      <td>False</td>\n",
       "      <td>False</td>\n",
       "      <td>False</td>\n",
       "      <td>False</td>\n",
       "      <td>False</td>\n",
       "      <td>False</td>\n",
       "      <td>False</td>\n",
       "    </tr>\n",
       "    <tr>\n",
       "      <th>4</th>\n",
       "      <td>Abraxas</td>\n",
       "      <td>Male</td>\n",
       "      <td>blue</td>\n",
       "      <td>Cosmic Entity</td>\n",
       "      <td>Black</td>\n",
       "      <td>183.0</td>\n",
       "      <td>Marvel Comics</td>\n",
       "      <td>-</td>\n",
       "      <td>bad</td>\n",
       "      <td>81.0</td>\n",
       "      <td>...</td>\n",
       "      <td>False</td>\n",
       "      <td>False</td>\n",
       "      <td>False</td>\n",
       "      <td>False</td>\n",
       "      <td>False</td>\n",
       "      <td>False</td>\n",
       "      <td>False</td>\n",
       "      <td>False</td>\n",
       "      <td>False</td>\n",
       "      <td>False</td>\n",
       "    </tr>\n",
       "  </tbody>\n",
       "</table>\n",
       "<p>5 rows × 178 columns</p>\n",
       "</div>"
      ],
      "text/plain": [
       "          name Gender Eye color               Race Hair color  Height  \\\n",
       "0       A-Bomb   Male    yellow              Human    No Hair   203.0   \n",
       "1   Abe Sapien   Male      blue      Icthyo Sapien    No Hair   191.0   \n",
       "2     Abin Sur   Male      blue            Ungaran    No Hair   185.0   \n",
       "3  Abomination   Male     green  Human / Radiation    No Hair   203.0   \n",
       "4      Abraxas   Male      blue      Cosmic Entity      Black   183.0   \n",
       "\n",
       "           Publisher Skin color Alignment  Weight  ... Web Creation  \\\n",
       "0      Marvel Comics          -      good   441.0  ...        False   \n",
       "1  Dark Horse Comics       blue      good    65.0  ...        False   \n",
       "2          DC Comics        red      good    90.0  ...        False   \n",
       "3      Marvel Comics          -       bad   441.0  ...        False   \n",
       "4      Marvel Comics          -       bad    81.0  ...        False   \n",
       "\n",
       "  Reality Warping Odin Force Symbiote Costume Speed Force Phoenix Force  \\\n",
       "0           False      False            False       False         False   \n",
       "1           False      False            False       False         False   \n",
       "2           False      False            False       False         False   \n",
       "3           False      False            False       False         False   \n",
       "4           False      False            False       False         False   \n",
       "\n",
       "  Molecular Dissipation Vision - Cryo Omnipresent Omniscient  \n",
       "0                 False         False       False      False  \n",
       "1                 False         False       False      False  \n",
       "2                 False         False       False      False  \n",
       "3                 False         False       False      False  \n",
       "4                 False         False       False      False  \n",
       "\n",
       "[5 rows x 178 columns]"
      ]
     },
     "metadata": {},
     "output_type": "display_data"
    }
   ],
   "source": [
    "try:\n",
    "    heroes_df.set_index('name',inplace=False)\n",
    "    powers_df.set_index('hero_names', inplace=False)\n",
    "except:\n",
    "    print('Index already changed')\n",
    "\n",
    "joined_df = heroes_df.join(powers_df, how='outer', rsuffix='_powers_df')\n",
    "display(joined_df.head())"
   ]
  },
  {
   "cell_type": "code",
   "execution_count": null,
   "metadata": {},
   "outputs": [],
   "source": []
  },
  {
   "cell_type": "code",
   "execution_count": 9,
   "metadata": {},
   "outputs": [
    {
     "data": {
      "text/plain": [
       "Text(0.5, 1.0, 'Manipulating Pandas plot objects in matplotlib')"
      ]
     },
     "execution_count": 9,
     "metadata": {},
     "output_type": "execute_result"
    },
    {
     "data": {
      "image/png": "[encoded data removed]",
      "text/plain": [
       "<Figure size 432x288 with 2 Axes>"
      ]
     },
     "metadata": {
      "needs_background": "light"
     },
     "output_type": "display_data"
    }
   ],
   "source": [
    "np.random.seed\n",
    "data = pd.DataFrame({'A':np.random.randn(365).cumsum(),\n",
    "                    'B':np.random.randn(365).cumsum() + 25,\n",
    "                    'C':np.random.randn(365).cumsum() - 25}, \n",
    "                     index = pd.date_range('1/1/2018', periods = 365))\n",
    "ax = data.plot.scatter('A', 'C', \n",
    "                        c = 'B',\n",
    "                        s = data['B'],\n",
    "                        colormap = 'viridis');\n",
    "ax.set_aspect('equal')\n",
    "ax.set_title('Manipulating Pandas plot objects in matplotlib')"
   ]
  },
  {
   "cell_type": "code",
   "execution_count": null,
   "metadata": {},
   "outputs": [],
   "source": []
  },
  {
   "cell_type": "markdown",
   "metadata": {},
   "source": [
    "In the cell below, subset male and female heroes into different dataframes.  Create a scatterplot of the height and weight of each hero, with weight as the y-axis.  Plot both the male and female heroes subset into each dataframe, and make the color for each point in the scatterplot correspond to the gender of the superhero."
   ]
  },
  {
   "cell_type": "code",
   "execution_count": 10,
   "metadata": {},
   "outputs": [
    {
     "data": {
      "text/plain": [
       "Text(0.5, 1.0, 'Height vs. Weight for Heroes, colored by Gender')"
      ]
     },
     "execution_count": 10,
     "metadata": {},
     "output_type": "execute_result"
    },
    {
     "data": {
      "image/png": "[encoded data removed]",
      "text/plain": [
       "<Figure size 720x720 with 2 Axes>"
      ]
     },
     "metadata": {
      "needs_background": "light"
     },
     "output_type": "display_data"
    }
   ],
   "source": [
    "male_df = joined_df[joined_df.Gender=='Male']\n",
    "female_df = joined_df[joined_df.Gender=='Female']\n",
    "\n",
    "#pd.plotting.scatter_matrix(female_df, figsize=(10,10));\n",
    "\n",
    "# ax = data.plot.scatter('A', 'C', \n",
    "#                         c = 'B',\n",
    "#                         s = data['B'],\n",
    "#                         colormap = 'viridis');\n",
    "# ax.set_aspect('equal')\n",
    "# ax.set_title('Manipulating Pandas plot objects in matplotlib')\n",
    "ax = joined_df.plot.scatter('Height','Weight',\n",
    "                            c = joined_df.Gender.map(lambda x:  1 if x == 'Male' else (0 if x == 'Female' else -1)), \n",
    "                            #s = 'Gender', \n",
    "                            colormap = 'viridis', \n",
    "                           figsize = (10,10))\n",
    "ax.set_aspect('equal')\n",
    "ax.set_title('Height vs. Weight for Heroes, colored by Gender')"
   ]
  },
  {
   "cell_type": "markdown",
   "metadata": {},
   "source": [
    "## Some Initial Investigation\n",
    "\n",
    "Next, slice the DataFrame as needed and visualize the distribution of heights and weights by gender.  You should have 4 total plots.  \n",
    "\n",
    "In the cell below:\n",
    "\n",
    "* Slice the DataFrame into separate DataFrames by gender\n",
    "* Complete the `show_distplot()` function.  This helper function should take in a DataFrame, a string containing the gender we want to visualize, and the column name we want to visualize by gender. The function should display a distplot visualization from seaborn of the column/gender combination.  \n",
    "\n",
    "Hint: Don't forget to check the [seaborn documentation for distplot](https://seaborn.pydata.org/generated/seaborn.distplot.html) if you have questions about how to use it correctly! "
   ]
  },
  {
   "cell_type": "code",
   "execution_count": 11,
   "metadata": {},
   "outputs": [
    {
     "name": "stderr",
     "output_type": "stream",
     "text": [
      "C:\\Users\\erict\\anaconda3\\lib\\site-packages\\seaborn\\distributions.py:2551: FutureWarning: `distplot` is a deprecated function and will be removed in a future version. Please adapt your code to use either `displot` (a figure-level function with similar flexibility) or `histplot` (an axes-level function for histograms).\n",
      "  warnings.warn(msg, FutureWarning)\n"
     ]
    },
    {
     "data": {
      "image/png": "[encoded data removed]",
      "text/plain": [
       "<Figure size 432x288 with 1 Axes>"
      ]
     },
     "metadata": {
      "needs_background": "light"
     },
     "output_type": "display_data"
    },
    {
     "data": {
      "image/png": "[encoded data removed]",
      "text/plain": [
       "<Figure size 360x360 with 1 Axes>"
      ]
     },
     "metadata": {
      "needs_background": "light"
     },
     "output_type": "display_data"
    }
   ],
   "source": [
    "#this instruction seems very confusing, since it seems we were asked to do this same thing in the last step, but then \n",
    "#we didn't use it...\n",
    "#and even now, we are asked to slice, but then write a flexible show_distplot function...\n",
    "\n",
    "import seaborn as sns \n",
    "\n",
    "male_heroes_df = joined_df[joined_df.Gender=='Male']\n",
    "female_heroes_df = joined_df[joined_df.Gender=='Female']\n",
    "\n",
    "def show_distplot(dataframe, gender, column_name):\n",
    "    #Seaborn documentation shows distplot is deprecated...I will write one using the new function too\n",
    "    #seaborn.distplot(a=None, bins=None, hist=True, kde=True, rug=False, fit=None, hist_kws=None, kde_kws=None, rug_kws=None, fit_kws=None, color=None, vertical=False, norm_hist=False, axlabel=None, label=None, ax=None, x=None)\n",
    "    df = dataframe[joined_df.Gender == gender]\n",
    "    col = df[column_name]\n",
    "    sns.distplot(a=col, \n",
    "                #norm_hist=True,\n",
    "                #axlabel=None, \n",
    "                #label='Weight Density', \n",
    "                #ax=None, \n",
    "                #x=None\n",
    "                )\n",
    "    #return col\n",
    "\n",
    "def show_displot(dataframe, gender, column_name):\n",
    "    df = dataframe[joined_df.Gender == gender]\n",
    "    col = df[column_name]\n",
    "    sns.displot(data=col, \n",
    "                ##kind=['hist','kde']\n",
    "                )\n",
    "\n",
    "#testing:\n",
    "show_distplot(joined_df, 'Male', 'Weight')\n",
    "show_displot(joined_df, 'Male', 'Weight')"
   ]
  },
  {
   "cell_type": "code",
   "execution_count": 12,
   "metadata": {},
   "outputs": [
    {
     "name": "stderr",
     "output_type": "stream",
     "text": [
      "C:\\Users\\erict\\anaconda3\\lib\\site-packages\\seaborn\\distributions.py:2551: FutureWarning: `distplot` is a deprecated function and will be removed in a future version. Please adapt your code to use either `displot` (a figure-level function with similar flexibility) or `histplot` (an axes-level function for histograms).\n",
      "  warnings.warn(msg, FutureWarning)\n"
     ]
    },
    {
     "data": {
      "image/png": "[encoded data removed]",
      "text/plain": [
       "<Figure size 432x288 with 1 Axes>"
      ]
     },
     "metadata": {
      "needs_background": "light"
     },
     "output_type": "display_data"
    }
   ],
   "source": [
    "# Male Height\n",
    "show_distplot(joined_df, 'Male', 'Height')"
   ]
  },
  {
   "cell_type": "code",
   "execution_count": 13,
   "metadata": {},
   "outputs": [
    {
     "name": "stderr",
     "output_type": "stream",
     "text": [
      "C:\\Users\\erict\\anaconda3\\lib\\site-packages\\seaborn\\distributions.py:2551: FutureWarning: `distplot` is a deprecated function and will be removed in a future version. Please adapt your code to use either `displot` (a figure-level function with similar flexibility) or `histplot` (an axes-level function for histograms).\n",
      "  warnings.warn(msg, FutureWarning)\n"
     ]
    },
    {
     "data": {
      "image/png": "[encoded data removed]",
      "text/plain": [
       "<Figure size 432x288 with 1 Axes>"
      ]
     },
     "metadata": {
      "needs_background": "light"
     },
     "output_type": "display_data"
    }
   ],
   "source": [
    "# Male Weight\n",
    "show_distplot(joined_df, 'Male', 'Weight')"
   ]
  },
  {
   "cell_type": "code",
   "execution_count": 14,
   "metadata": {},
   "outputs": [
    {
     "name": "stderr",
     "output_type": "stream",
     "text": [
      "C:\\Users\\erict\\anaconda3\\lib\\site-packages\\seaborn\\distributions.py:2551: FutureWarning: `distplot` is a deprecated function and will be removed in a future version. Please adapt your code to use either `displot` (a figure-level function with similar flexibility) or `histplot` (an axes-level function for histograms).\n",
      "  warnings.warn(msg, FutureWarning)\n"
     ]
    },
    {
     "data": {
      "image/png": "[encoded data removed]",
      "text/plain": [
       "<Figure size 432x288 with 1 Axes>"
      ]
     },
     "metadata": {
      "needs_background": "light"
     },
     "output_type": "display_data"
    }
   ],
   "source": [
    "# Female Height\n",
    "show_distplot(joined_df, 'Female', 'Height')"
   ]
  },
  {
   "cell_type": "code",
   "execution_count": 15,
   "metadata": {},
   "outputs": [
    {
     "name": "stderr",
     "output_type": "stream",
     "text": [
      "C:\\Users\\erict\\anaconda3\\lib\\site-packages\\seaborn\\distributions.py:2551: FutureWarning: `distplot` is a deprecated function and will be removed in a future version. Please adapt your code to use either `displot` (a figure-level function with similar flexibility) or `histplot` (an axes-level function for histograms).\n",
      "  warnings.warn(msg, FutureWarning)\n"
     ]
    },
    {
     "data": {
      "image/png": "[encoded data removed]",
      "text/plain": [
       "<Figure size 432x288 with 1 Axes>"
      ]
     },
     "metadata": {
      "needs_background": "light"
     },
     "output_type": "display_data"
    }
   ],
   "source": [
    "# Female Weight\n",
    "show_distplot(joined_df, 'Female', 'Weight')"
   ]
  },
  {
   "cell_type": "markdown",
   "metadata": {},
   "source": [
    "Discuss your findings from the plots above, with respect to the distribution of height and weight by gender.  Your explanation should include a discussion of any relevant summary statistics, including mean, median, mode, and the overall shape of each distribution.  \n",
    "\n",
    "Write your answer below this line:\n",
    "____________________________________________________________________________________________________________________________\n",
    "\n"
   ]
  },
  {
   "cell_type": "markdown",
   "metadata": {},
   "source": [
    "### Sample Question: Most Common Powers\n",
    "\n",
    "The rest of this notebook will be left to you to investigate the dataset by formulating your own questions, and then seeking answers using pandas and numpy.  Every answer should include some sort of visualization, when appropriate. Before moving on to formulating your own questions, use the dataset to answer the following questions about superhero powers:\n",
    "\n",
    "* What are the 5 most common powers overall?\n",
    "* What are the 5 most common powers in the Marvel Universe?\n",
    "* What are the 5 most common powers in the DC Universe?"
   ]
  },
  {
   "cell_type": "code",
   "execution_count": null,
   "metadata": {},
   "outputs": [],
   "source": []
  },
  {
   "cell_type": "code",
   "execution_count": null,
   "metadata": {},
   "outputs": [],
   "source": []
  },
  {
   "cell_type": "code",
   "execution_count": null,
   "metadata": {},
   "outputs": [],
   "source": []
  },
  {
   "cell_type": "code",
   "execution_count": null,
   "metadata": {},
   "outputs": [],
   "source": []
  },
  {
   "cell_type": "markdown",
   "metadata": {},
   "source": [
    "Analyze the results you found above to answer the following question:\n",
    "\n",
    "How do the top 5 powers in the Marvel and DC universes compare?  Are they similar, or are there significant differences? How do they compare to the overall trends in the entire Superheroes dataset?\n",
    "\n",
    "Write your answer below this line:\n",
    "____________________________________________________________________________________________________________________________\n",
    "\n",
    "\n",
    "### Your Own Investigation\n",
    "\n",
    "For the remainder of this lab, you'll be focusing on coming up with and answering your own question, just like we did above.  Your question should not be overly simple, and should require both descriptive statistics and data visualization to answer.  In case you're unsure of what questions to ask, some sample questions have been provided below.\n",
    "\n",
    "Pick one of the following questions to investigate and answer, or come up with one of your own!\n",
    "\n",
    "* Which powers have the highest chance of co-occurring in a hero (e.g. super strength and flight), and does this differ by gender?\n",
    "* Is there a relationship between a hero's height and weight and their powerset?\n",
    "* What is the distribution of skin colors amongst alien heroes?\n",
    "\n",
    "Explain your question below this line:\n",
    "____________________________________________________________________________________________________________________________\n",
    "\n",
    "\n",
    "\n",
    "Some sample cells have been provided to give you room to work. If you need to create more cells, you can do this easily by:\n",
    "\n",
    "1. Highlighting a cell and then pressing `esc` to enter command mode.\n",
    "1. Pressing `b` to add a cell below the currently highlighted cell, or `a` to add one above it.  \n",
    "\n",
    "Be sure to include thoughtful, well-labeled visualizations to back up your analysis!"
   ]
  },
  {
   "cell_type": "code",
   "execution_count": null,
   "metadata": {},
   "outputs": [],
   "source": []
  },
  {
   "cell_type": "code",
   "execution_count": null,
   "metadata": {},
   "outputs": [],
   "source": []
  },
  {
   "cell_type": "code",
   "execution_count": null,
   "metadata": {},
   "outputs": [],
   "source": []
  },
  {
   "cell_type": "code",
   "execution_count": null,
   "metadata": {},
   "outputs": [],
   "source": []
  },
  {
   "cell_type": "code",
   "execution_count": null,
   "metadata": {},
   "outputs": [],
   "source": []
  },
  {
   "cell_type": "code",
   "execution_count": null,
   "metadata": {},
   "outputs": [],
   "source": []
  },
  {
   "cell_type": "markdown",
   "metadata": {},
   "source": [
    "## Summary\n",
    "\n",
    "In this lab, we demonstrated our mastery of:\n",
    "* Using all of our Pandas knowledge to date to clean the dataset and deal with null values\n",
    "* Using Queries and aggregations to group the data into interesting subsets as needed\n",
    "* Using descriptive statistics and data visualization to find answers to questions we may have about the data"
   ]
  }
 ],
 "metadata": {
  "kernelspec": {
   "display_name": "Python 3",
   "language": "python",
   "name": "python3"
  },
  "language_info": {
   "codemirror_mode": {
    "name": "ipython",
    "version": 3
   },
   "file_extension": ".py",
   "mimetype": "text/x-python",
   "name": "python",
   "nbconvert_exporter": "python",
   "pygments_lexer": "ipython3",
   "version": "3.8.5"
  }
 },
 "nbformat": 4,
 "nbformat_minor": 2
}
